{
  "nbformat": 4,
  "nbformat_minor": 0,
  "metadata": {
    "colab": {
      "name": "Carnival Wars!.ipynb",
      "provenance": [],
      "collapsed_sections": [],
      "machine_shape": "hm"
    },
    "kernelspec": {
      "name": "python3",
      "display_name": "Python 3"
    },
    "accelerator": "TPU"
  },
  "cells": [
    {
      "cell_type": "code",
      "metadata": {
        "id": "mOCsm9nhUHEy"
      },
      "source": [
        "import numpy as np\n",
        "import pandas as pd\n",
        "import matplotlib.pyplot as plt\n",
        "%matplotlib inline\n",
        "import seaborn as sns\n",
        "plt.style.use('seaborn-whitegrid')"
      ],
      "execution_count": null,
      "outputs": []
    },
    {
      "cell_type": "code",
      "metadata": {
        "id": "j1_9_50uUesS"
      },
      "source": [
        "from sklearn.model_selection import train_test_split, StratifiedKFold\n",
        "from sklearn.metrics import mean_squared_error\n",
        "from sklearn.model_selection import KFold"
      ],
      "execution_count": null,
      "outputs": []
    },
    {
      "cell_type": "code",
      "metadata": {
        "id": "iVdAKBGpEtRT",
        "colab": {
          "base_uri": "https://localhost:8080/"
        },
        "outputId": "d03a5e6d-6c88-4ef1-bc48-9bf46556e1af"
      },
      "source": [
        "from sklearn.tree import DecisionTreeRegressor\n",
        "from sklearn.ensemble import RandomForestRegressor\n",
        "from sklearn.preprocessing import StandardScaler\n",
        "\n",
        "from sklearn.linear_model import LinearRegression, ElasticNet\n",
        "\n",
        "from lightgbm import LGBMRegressor\n",
        "!pip install catboost\n",
        "from catboost import CatBoostRegressor\n",
        "from xgboost import XGBRegressor\n"
      ],
      "execution_count": null,
      "outputs": [
        {
          "output_type": "stream",
          "text": [
            "Requirement already satisfied: catboost in /usr/local/lib/python3.6/dist-packages (0.24.3)\n",
            "Requirement already satisfied: six in /usr/local/lib/python3.6/dist-packages (from catboost) (1.15.0)\n",
            "Requirement already satisfied: pandas>=0.24.0 in /usr/local/lib/python3.6/dist-packages (from catboost) (1.1.4)\n",
            "Requirement already satisfied: numpy>=1.16.0 in /usr/local/lib/python3.6/dist-packages (from catboost) (1.18.5)\n",
            "Requirement already satisfied: matplotlib in /usr/local/lib/python3.6/dist-packages (from catboost) (3.2.2)\n",
            "Requirement already satisfied: scipy in /usr/local/lib/python3.6/dist-packages (from catboost) (1.4.1)\n",
            "Requirement already satisfied: graphviz in /usr/local/lib/python3.6/dist-packages (from catboost) (0.10.1)\n",
            "Requirement already satisfied: plotly in /usr/local/lib/python3.6/dist-packages (from catboost) (4.4.1)\n",
            "Requirement already satisfied: python-dateutil>=2.7.3 in /usr/local/lib/python3.6/dist-packages (from pandas>=0.24.0->catboost) (2.8.1)\n",
            "Requirement already satisfied: pytz>=2017.2 in /usr/local/lib/python3.6/dist-packages (from pandas>=0.24.0->catboost) (2018.9)\n",
            "Requirement already satisfied: kiwisolver>=1.0.1 in /usr/local/lib/python3.6/dist-packages (from matplotlib->catboost) (1.3.1)\n",
            "Requirement already satisfied: pyparsing!=2.0.4,!=2.1.2,!=2.1.6,>=2.0.1 in /usr/local/lib/python3.6/dist-packages (from matplotlib->catboost) (2.4.7)\n",
            "Requirement already satisfied: cycler>=0.10 in /usr/local/lib/python3.6/dist-packages (from matplotlib->catboost) (0.10.0)\n",
            "Requirement already satisfied: retrying>=1.3.3 in /usr/local/lib/python3.6/dist-packages (from plotly->catboost) (1.3.3)\n"
          ],
          "name": "stdout"
        }
      ]
    },
    {
      "cell_type": "code",
      "metadata": {
        "id": "X_VqzXpcE3a8"
      },
      "source": [
        "from IPython.core.interactiveshell import InteractiveShell\n",
        "InteractiveShell.ast_node_interactivity = \"all\"\n",
        "\n",
        "import warnings\n",
        "warnings.simplefilter('ignore')"
      ],
      "execution_count": null,
      "outputs": []
    },
    {
      "cell_type": "code",
      "metadata": {
        "id": "5CAbeb4DUhxl"
      },
      "source": [
        "ss = pd.read_csv('sample_submission.csv')\n",
        "train = pd.read_csv('train.csv')\n",
        "test = pd.read_csv('test.csv')"
      ],
      "execution_count": null,
      "outputs": []
    },
    {
      "cell_type": "code",
      "metadata": {
        "id": "HUb0dfA6bXNk",
        "colab": {
          "base_uri": "https://localhost:8080/",
          "height": 230
        },
        "outputId": "3486b0c4-3edc-4613-a0bf-01ec6f911931"
      },
      "source": [
        "train.head(3)"
      ],
      "execution_count": null,
      "outputs": [
        {
          "output_type": "execute_result",
          "data": {
            "text/html": [
              "<div>\n",
              "<style scoped>\n",
              "    .dataframe tbody tr th:only-of-type {\n",
              "        vertical-align: middle;\n",
              "    }\n",
              "\n",
              "    .dataframe tbody tr th {\n",
              "        vertical-align: top;\n",
              "    }\n",
              "\n",
              "    .dataframe thead th {\n",
              "        text-align: right;\n",
              "    }\n",
              "</style>\n",
              "<table border=\"1\" class=\"dataframe\">\n",
              "  <thead>\n",
              "    <tr style=\"text-align: right;\">\n",
              "      <th></th>\n",
              "      <th>Product_id</th>\n",
              "      <th>Stall_no</th>\n",
              "      <th>instock_date</th>\n",
              "      <th>Market_Category</th>\n",
              "      <th>Customer_name</th>\n",
              "      <th>Loyalty_customer</th>\n",
              "      <th>Product_Category</th>\n",
              "      <th>Grade</th>\n",
              "      <th>Demand</th>\n",
              "      <th>Discount_avail</th>\n",
              "      <th>charges_1</th>\n",
              "      <th>charges_2 (%)</th>\n",
              "      <th>Minimum_price</th>\n",
              "      <th>Maximum_price</th>\n",
              "      <th>Selling_Price</th>\n",
              "    </tr>\n",
              "  </thead>\n",
              "  <tbody>\n",
              "    <tr>\n",
              "      <th>0</th>\n",
              "      <td>BRAE2NF6JA5GUEXG</td>\n",
              "      <td>37.0</td>\n",
              "      <td>2015-08-22 18:36:12.000</td>\n",
              "      <td>2</td>\n",
              "      <td>Lillyann</td>\n",
              "      <td>Yes</td>\n",
              "      <td>Fashion</td>\n",
              "      <td>1</td>\n",
              "      <td>68</td>\n",
              "      <td>0.0</td>\n",
              "      <td>376.0</td>\n",
              "      <td>11.0</td>\n",
              "      <td>2983.0</td>\n",
              "      <td>4713.0</td>\n",
              "      <td>4185.947700</td>\n",
              "    </tr>\n",
              "    <tr>\n",
              "      <th>1</th>\n",
              "      <td>TUNE8SFB6RJN2HSD</td>\n",
              "      <td>38.0</td>\n",
              "      <td>2016-03-27 21:19:13.000</td>\n",
              "      <td>24</td>\n",
              "      <td>Klynn</td>\n",
              "      <td>Yes</td>\n",
              "      <td>Fashion</td>\n",
              "      <td>0</td>\n",
              "      <td>51</td>\n",
              "      <td>0.0</td>\n",
              "      <td>397.0</td>\n",
              "      <td>12.0</td>\n",
              "      <td>7495.0</td>\n",
              "      <td>10352.0</td>\n",
              "      <td>9271.490256</td>\n",
              "    </tr>\n",
              "    <tr>\n",
              "      <th>2</th>\n",
              "      <td>BRAEAR7WZPQGPBZU</td>\n",
              "      <td>9.0</td>\n",
              "      <td>2015-08-18 19:25:22.000</td>\n",
              "      <td>447</td>\n",
              "      <td>Ridge</td>\n",
              "      <td>Yes</td>\n",
              "      <td>Child_care</td>\n",
              "      <td>0</td>\n",
              "      <td>10</td>\n",
              "      <td>0.0</td>\n",
              "      <td>250.0</td>\n",
              "      <td>9.0</td>\n",
              "      <td>5752.0</td>\n",
              "      <td>7309.0</td>\n",
              "      <td>6785.701362</td>\n",
              "    </tr>\n",
              "  </tbody>\n",
              "</table>\n",
              "</div>"
            ],
            "text/plain": [
              "         Product_id  Stall_no  ... Maximum_price  Selling_Price\n",
              "0  BRAE2NF6JA5GUEXG      37.0  ...        4713.0    4185.947700\n",
              "1  TUNE8SFB6RJN2HSD      38.0  ...       10352.0    9271.490256\n",
              "2  BRAEAR7WZPQGPBZU       9.0  ...        7309.0    6785.701362\n",
              "\n",
              "[3 rows x 15 columns]"
            ]
          },
          "metadata": {
            "tags": []
          },
          "execution_count": 8
        }
      ]
    },
    {
      "cell_type": "code",
      "metadata": {
        "id": "wqPaA7vVUk1Q"
      },
      "source": [
        "ID_COL ,TARGET_COL = 'Product_id','Selling_Price'\n",
        "\n",
        "num_cols = ['Stall_no','Market_Category','Grade','Demand','Discount_avail','charges_1','charges_2 (%)','Minimum_price','Maximum_price']\n",
        "cat_cols = ['Customer_name','Loyalty_customer','Product_Category']\n",
        "date_cols = ['instock_date']"
      ],
      "execution_count": null,
      "outputs": []
    },
    {
      "cell_type": "code",
      "metadata": {
        "id": "EXd8Zo0jUwt6",
        "colab": {
          "base_uri": "https://localhost:8080/"
        },
        "outputId": "78e75391-253a-4efc-be60-6a54dac2a829"
      },
      "source": [
        "train.shape, test.shape"
      ],
      "execution_count": null,
      "outputs": [
        {
          "output_type": "execute_result",
          "data": {
            "text/plain": [
              "((6368, 15), (3430, 14))"
            ]
          },
          "metadata": {
            "tags": []
          },
          "execution_count": 8
        }
      ]
    },
    {
      "cell_type": "code",
      "metadata": {
        "colab": {
          "base_uri": "https://localhost:8080/"
        },
        "id": "Hs98_nZDaRSO",
        "outputId": "6e8c7e84-087b-4752-f78a-a6c4f49e2ec5"
      },
      "source": [
        "train.nunique()"
      ],
      "execution_count": null,
      "outputs": [
        {
          "output_type": "execute_result",
          "data": {
            "text/plain": [
              "Product_id          6368\n",
              "Stall_no              50\n",
              "instock_date        5350\n",
              "Market_Category      248\n",
              "Customer_name       5900\n",
              "Loyalty_customer       2\n",
              "Product_Category      10\n",
              "Grade                  4\n",
              "Demand               100\n",
              "Discount_avail         2\n",
              "charges_1            487\n",
              "charges_2 (%)         17\n",
              "Minimum_price       4236\n",
              "Maximum_price       4618\n",
              "Selling_Price       6321\n",
              "dtype: int64"
            ]
          },
          "metadata": {
            "tags": []
          },
          "execution_count": 9
        }
      ]
    },
    {
      "cell_type": "code",
      "metadata": {
        "id": "SGPIn_mouBpy",
        "colab": {
          "base_uri": "https://localhost:8080/",
          "height": 294
        },
        "outputId": "9de8273d-4b8a-46cc-b1c3-938cfc62477d"
      },
      "source": [
        "train.describe()"
      ],
      "execution_count": null,
      "outputs": [
        {
          "output_type": "execute_result",
          "data": {
            "text/html": [
              "<div>\n",
              "<style scoped>\n",
              "    .dataframe tbody tr th:only-of-type {\n",
              "        vertical-align: middle;\n",
              "    }\n",
              "\n",
              "    .dataframe tbody tr th {\n",
              "        vertical-align: top;\n",
              "    }\n",
              "\n",
              "    .dataframe thead th {\n",
              "        text-align: right;\n",
              "    }\n",
              "</style>\n",
              "<table border=\"1\" class=\"dataframe\">\n",
              "  <thead>\n",
              "    <tr style=\"text-align: right;\">\n",
              "      <th></th>\n",
              "      <th>Stall_no</th>\n",
              "      <th>Market_Category</th>\n",
              "      <th>Grade</th>\n",
              "      <th>Demand</th>\n",
              "      <th>Discount_avail</th>\n",
              "      <th>charges_1</th>\n",
              "      <th>charges_2 (%)</th>\n",
              "      <th>Minimum_price</th>\n",
              "      <th>Maximum_price</th>\n",
              "      <th>Selling_Price</th>\n",
              "    </tr>\n",
              "  </thead>\n",
              "  <tbody>\n",
              "    <tr>\n",
              "      <th>count</th>\n",
              "      <td>6363.000000</td>\n",
              "      <td>6368.000000</td>\n",
              "      <td>6368.000000</td>\n",
              "      <td>6368.000000</td>\n",
              "      <td>6330.000000</td>\n",
              "      <td>6170.000000</td>\n",
              "      <td>6163.000000</td>\n",
              "      <td>6330.000000</td>\n",
              "      <td>6025.000000</td>\n",
              "      <td>6327.000000</td>\n",
              "    </tr>\n",
              "    <tr>\n",
              "      <th>mean</th>\n",
              "      <td>25.309445</td>\n",
              "      <td>199.340609</td>\n",
              "      <td>0.643687</td>\n",
              "      <td>50.921168</td>\n",
              "      <td>0.140442</td>\n",
              "      <td>264.514100</td>\n",
              "      <td>10.146195</td>\n",
              "      <td>3531.349763</td>\n",
              "      <td>6432.545892</td>\n",
              "      <td>4563.242592</td>\n",
              "    </tr>\n",
              "    <tr>\n",
              "      <th>std</th>\n",
              "      <td>14.328980</td>\n",
              "      <td>170.275570</td>\n",
              "      <td>1.025092</td>\n",
              "      <td>29.091922</td>\n",
              "      <td>0.347473</td>\n",
              "      <td>124.483056</td>\n",
              "      <td>4.318339</td>\n",
              "      <td>2194.729604</td>\n",
              "      <td>3716.177364</td>\n",
              "      <td>2979.102408</td>\n",
              "    </tr>\n",
              "    <tr>\n",
              "      <th>min</th>\n",
              "      <td>1.000000</td>\n",
              "      <td>0.000000</td>\n",
              "      <td>0.000000</td>\n",
              "      <td>1.000000</td>\n",
              "      <td>0.000000</td>\n",
              "      <td>100.000000</td>\n",
              "      <td>1.000000</td>\n",
              "      <td>1.000000</td>\n",
              "      <td>404.000000</td>\n",
              "      <td>-6062.470000</td>\n",
              "    </tr>\n",
              "    <tr>\n",
              "      <th>25%</th>\n",
              "      <td>13.000000</td>\n",
              "      <td>55.000000</td>\n",
              "      <td>0.000000</td>\n",
              "      <td>26.000000</td>\n",
              "      <td>0.000000</td>\n",
              "      <td>163.000000</td>\n",
              "      <td>7.000000</td>\n",
              "      <td>1879.250000</td>\n",
              "      <td>3918.000000</td>\n",
              "      <td>2450.005280</td>\n",
              "    </tr>\n",
              "    <tr>\n",
              "      <th>50%</th>\n",
              "      <td>25.000000</td>\n",
              "      <td>132.000000</td>\n",
              "      <td>0.000000</td>\n",
              "      <td>51.000000</td>\n",
              "      <td>0.000000</td>\n",
              "      <td>252.000000</td>\n",
              "      <td>10.000000</td>\n",
              "      <td>3157.500000</td>\n",
              "      <td>5634.000000</td>\n",
              "      <td>4210.384640</td>\n",
              "    </tr>\n",
              "    <tr>\n",
              "      <th>75%</th>\n",
              "      <td>37.000000</td>\n",
              "      <td>403.000000</td>\n",
              "      <td>2.000000</td>\n",
              "      <td>76.000000</td>\n",
              "      <td>0.000000</td>\n",
              "      <td>314.000000</td>\n",
              "      <td>14.000000</td>\n",
              "      <td>4697.000000</td>\n",
              "      <td>8126.000000</td>\n",
              "      <td>6167.643252</td>\n",
              "    </tr>\n",
              "    <tr>\n",
              "      <th>max</th>\n",
              "      <td>50.000000</td>\n",
              "      <td>471.000000</td>\n",
              "      <td>3.000000</td>\n",
              "      <td>100.000000</td>\n",
              "      <td>1.000000</td>\n",
              "      <td>649.000000</td>\n",
              "      <td>17.000000</td>\n",
              "      <td>17580.000000</td>\n",
              "      <td>58812.000000</td>\n",
              "      <td>22638.325941</td>\n",
              "    </tr>\n",
              "  </tbody>\n",
              "</table>\n",
              "</div>"
            ],
            "text/plain": [
              "          Stall_no  Market_Category  ...  Maximum_price  Selling_Price\n",
              "count  6363.000000      6368.000000  ...    6025.000000    6327.000000\n",
              "mean     25.309445       199.340609  ...    6432.545892    4563.242592\n",
              "std      14.328980       170.275570  ...    3716.177364    2979.102408\n",
              "min       1.000000         0.000000  ...     404.000000   -6062.470000\n",
              "25%      13.000000        55.000000  ...    3918.000000    2450.005280\n",
              "50%      25.000000       132.000000  ...    5634.000000    4210.384640\n",
              "75%      37.000000       403.000000  ...    8126.000000    6167.643252\n",
              "max      50.000000       471.000000  ...   58812.000000   22638.325941\n",
              "\n",
              "[8 rows x 10 columns]"
            ]
          },
          "metadata": {
            "tags": []
          },
          "execution_count": 10
        }
      ]
    },
    {
      "cell_type": "code",
      "metadata": {
        "colab": {
          "base_uri": "https://localhost:8080/"
        },
        "id": "Vk8tZWIjlSCk",
        "outputId": "9db8198f-0a2e-45fd-9c23-7585ae58c695"
      },
      "source": [
        "null_values_per_variable = 100 * (train.isnull().sum()/train.shape[0]).round(3)#.reset_index()\n",
        "null_values_per_variable.sort_values(ascending=False)"
      ],
      "execution_count": null,
      "outputs": [
        {
          "output_type": "execute_result",
          "data": {
            "text/plain": [
              "Maximum_price       5.4\n",
              "Customer_name       3.3\n",
              "charges_2 (%)       3.2\n",
              "charges_1           3.1\n",
              "Selling_Price       0.6\n",
              "Minimum_price       0.6\n",
              "Discount_avail      0.6\n",
              "Stall_no            0.1\n",
              "Demand              0.0\n",
              "Grade               0.0\n",
              "Product_Category    0.0\n",
              "Loyalty_customer    0.0\n",
              "Market_Category     0.0\n",
              "instock_date        0.0\n",
              "Product_id          0.0\n",
              "dtype: float64"
            ]
          },
          "metadata": {
            "tags": []
          },
          "execution_count": 11
        }
      ]
    },
    {
      "cell_type": "code",
      "metadata": {
        "id": "gZJsW7LhhVvA"
      },
      "source": [
        "train['Selling_Price'][train['Selling_Price'] < 0] = 0 "
      ],
      "execution_count": null,
      "outputs": []
    },
    {
      "cell_type": "code",
      "metadata": {
        "id": "rOVcVj6zhAaL"
      },
      "source": [
        "train = train.fillna(0)"
      ],
      "execution_count": null,
      "outputs": []
    },
    {
      "cell_type": "code",
      "metadata": {
        "colab": {
          "base_uri": "https://localhost:8080/"
        },
        "id": "fziPM7m-uxgL",
        "outputId": "c354bda8-5123-4a29-cd86-98ed8e92d65d"
      },
      "source": [
        "train.isnull().sum().sum()"
      ],
      "execution_count": null,
      "outputs": [
        {
          "output_type": "execute_result",
          "data": {
            "text/plain": [
              "0"
            ]
          },
          "metadata": {
            "tags": []
          },
          "execution_count": 14
        }
      ]
    },
    {
      "cell_type": "code",
      "metadata": {
        "id": "aWs_8d15ZUSC"
      },
      "source": [
        "for c in num_cols + ['Selling_Price']:\n",
        "  train[c] = np.log1p(train[c])"
      ],
      "execution_count": null,
      "outputs": []
    },
    {
      "cell_type": "code",
      "metadata": {
        "colab": {
          "base_uri": "https://localhost:8080/",
          "height": 914
        },
        "id": "pQ5B47mnZh3S",
        "outputId": "aff06efd-244e-4f81-9ccc-9d07c7055001"
      },
      "source": [
        "sns.set(font_scale=1.3)\n",
        "fig, axes = plt.subplots(5, 2, figsize=(18, 14))\n",
        "axes = [ax for axes_row in axes for ax in axes_row]\n",
        "for i, c in enumerate(num_cols + ['Selling_Price']):\n",
        "  plot = sns.kdeplot(data=train, x=c, ax=axes[i], fill=True)\n",
        "plt.tight_layout()"
      ],
      "execution_count": null,
      "outputs": [
        {
          "output_type": "display_data",
          "data": {
            "image/png": "[encoded data removed]",
            "text/plain": [
              "<Figure size 1296x1008 with 10 Axes>"
            ]
          },
          "metadata": {
            "tags": []
          }
        }
      ]
    },
    {
      "cell_type": "code",
      "metadata": {
        "colab": {
          "base_uri": "https://localhost:8080/",
          "height": 619
        },
        "id": "AGBX9Nr5ZphL",
        "outputId": "d8f0a24d-0f49-4a58-ea68-688bda45915f"
      },
      "source": [
        "plt.figure(figsize=(14, 8))\n",
        "_ = sns.heatmap(train[num_cols + ['Selling_Price']].corr(), annot=True)"
      ],
      "execution_count": null,
      "outputs": [
        {
          "output_type": "execute_result",
          "data": {
            "text/plain": [
              "<Figure size 1008x576 with 0 Axes>"
            ]
          },
          "metadata": {
            "tags": []
          },
          "execution_count": 17
        },
        {
          "output_type": "display_data",
          "data": {
            "image/png": "[encoded data removed]",
            "text/plain": [
              "<Figure size 1008x576 with 2 Axes>"
            ]
          },
          "metadata": {
            "tags": []
          }
        }
      ]
    },
    {
      "cell_type": "code",
      "metadata": {
        "id": "9-arSu4vc_bL"
      },
      "source": [
        "def download_preds(preds_test, file_name = 'hacklive_sub.csv'):\n",
        "\n",
        "  ## 1. Setting the target column with our obtained predictions\n",
        "  ss[TARGET_COL] = preds_test\n",
        "\n",
        "  ## 2. Saving our predictions to a csv file\n",
        "\n",
        "  ss.to_csv(file_name, index = False)\n",
        "\n",
        "  ## 3. Downloading and submitting the csv file\n",
        "  from google.colab import files\n",
        "  files.download(file_name)"
      ],
      "execution_count": null,
      "outputs": []
    },
    {
      "cell_type": "code",
      "metadata": {
        "id": "mlclHbHwdDp4"
      },
      "source": [
        "train = pd.read_csv('train.csv')\n",
        "test = pd.read_csv('test.csv')"
      ],
      "execution_count": null,
      "outputs": []
    },
    {
      "cell_type": "code",
      "metadata": {
        "id": "w_oUmyTGU0I7",
        "colab": {
          "base_uri": "https://localhost:8080/"
        },
        "outputId": "04044aaf-a748-4102-abbc-552bf76c725b"
      },
      "source": [
        "df = pd.concat([train, test], axis=0).reset_index(drop = True)\n",
        "df.shape"
      ],
      "execution_count": null,
      "outputs": [
        {
          "output_type": "execute_result",
          "data": {
            "text/plain": [
              "(9798, 15)"
            ]
          },
          "metadata": {
            "tags": []
          },
          "execution_count": 8
        }
      ]
    },
    {
      "cell_type": "code",
      "metadata": {
        "id": "E26-7B37TG-O",
        "colab": {
          "base_uri": "https://localhost:8080/"
        },
        "outputId": "5ec286e2-e40f-4395-e44c-54b7d83ed403"
      },
      "source": [
        "df = df.fillna(0)\n",
        "df.isnull().sum().sum()"
      ],
      "execution_count": null,
      "outputs": [
        {
          "output_type": "execute_result",
          "data": {
            "text/plain": [
              "0"
            ]
          },
          "metadata": {
            "tags": []
          },
          "execution_count": 9
        }
      ]
    },
    {
      "cell_type": "code",
      "metadata": {
        "colab": {
          "base_uri": "https://localhost:8080/",
          "height": 294
        },
        "id": "uhDgCsPljwfR",
        "outputId": "176af839-ac4b-4757-a93a-e54757ec0f52"
      },
      "source": [
        "df.describe()"
      ],
      "execution_count": null,
      "outputs": [
        {
          "output_type": "execute_result",
          "data": {
            "text/html": [
              "<div>\n",
              "<style scoped>\n",
              "    .dataframe tbody tr th:only-of-type {\n",
              "        vertical-align: middle;\n",
              "    }\n",
              "\n",
              "    .dataframe tbody tr th {\n",
              "        vertical-align: top;\n",
              "    }\n",
              "\n",
              "    .dataframe thead th {\n",
              "        text-align: right;\n",
              "    }\n",
              "</style>\n",
              "<table border=\"1\" class=\"dataframe\">\n",
              "  <thead>\n",
              "    <tr style=\"text-align: right;\">\n",
              "      <th></th>\n",
              "      <th>Stall_no</th>\n",
              "      <th>Market_Category</th>\n",
              "      <th>Grade</th>\n",
              "      <th>Demand</th>\n",
              "      <th>Discount_avail</th>\n",
              "      <th>charges_1</th>\n",
              "      <th>charges_2 (%)</th>\n",
              "      <th>Minimum_price</th>\n",
              "      <th>Maximum_price</th>\n",
              "      <th>Selling_Price</th>\n",
              "    </tr>\n",
              "  </thead>\n",
              "  <tbody>\n",
              "    <tr>\n",
              "      <th>count</th>\n",
              "      <td>9798.000000</td>\n",
              "      <td>9798.000000</td>\n",
              "      <td>9798.000000</td>\n",
              "      <td>9798.000000</td>\n",
              "      <td>9798.000000</td>\n",
              "      <td>9798.000000</td>\n",
              "      <td>9798.000000</td>\n",
              "      <td>9798.000000</td>\n",
              "      <td>9798.000000</td>\n",
              "      <td>9798.000000</td>\n",
              "    </tr>\n",
              "    <tr>\n",
              "      <th>mean</th>\n",
              "      <td>25.407328</td>\n",
              "      <td>198.414064</td>\n",
              "      <td>0.652072</td>\n",
              "      <td>50.569810</td>\n",
              "      <td>0.141968</td>\n",
              "      <td>258.533170</td>\n",
              "      <td>10.030108</td>\n",
              "      <td>3482.226169</td>\n",
              "      <td>6137.877424</td>\n",
              "      <td>2946.686658</td>\n",
              "    </tr>\n",
              "    <tr>\n",
              "      <th>std</th>\n",
              "      <td>14.359772</td>\n",
              "      <td>169.767862</td>\n",
              "      <td>1.032439</td>\n",
              "      <td>28.918744</td>\n",
              "      <td>0.349035</td>\n",
              "      <td>129.741785</td>\n",
              "      <td>4.495789</td>\n",
              "      <td>2198.258413</td>\n",
              "      <td>3787.192874</td>\n",
              "      <td>3239.546326</td>\n",
              "    </tr>\n",
              "    <tr>\n",
              "      <th>min</th>\n",
              "      <td>0.000000</td>\n",
              "      <td>0.000000</td>\n",
              "      <td>0.000000</td>\n",
              "      <td>1.000000</td>\n",
              "      <td>0.000000</td>\n",
              "      <td>0.000000</td>\n",
              "      <td>0.000000</td>\n",
              "      <td>0.000000</td>\n",
              "      <td>0.000000</td>\n",
              "      <td>-6062.470000</td>\n",
              "    </tr>\n",
              "    <tr>\n",
              "      <th>25%</th>\n",
              "      <td>13.000000</td>\n",
              "      <td>55.000000</td>\n",
              "      <td>0.000000</td>\n",
              "      <td>26.000000</td>\n",
              "      <td>0.000000</td>\n",
              "      <td>155.000000</td>\n",
              "      <td>7.000000</td>\n",
              "      <td>1840.250000</td>\n",
              "      <td>3677.000000</td>\n",
              "      <td>0.000000</td>\n",
              "    </tr>\n",
              "    <tr>\n",
              "      <th>50%</th>\n",
              "      <td>25.000000</td>\n",
              "      <td>129.000000</td>\n",
              "      <td>0.000000</td>\n",
              "      <td>50.000000</td>\n",
              "      <td>0.000000</td>\n",
              "      <td>250.000000</td>\n",
              "      <td>10.000000</td>\n",
              "      <td>3112.000000</td>\n",
              "      <td>5413.500000</td>\n",
              "      <td>2228.738640</td>\n",
              "    </tr>\n",
              "    <tr>\n",
              "      <th>75%</th>\n",
              "      <td>38.000000</td>\n",
              "      <td>389.000000</td>\n",
              "      <td>2.000000</td>\n",
              "      <td>76.000000</td>\n",
              "      <td>0.000000</td>\n",
              "      <td>311.750000</td>\n",
              "      <td>14.000000</td>\n",
              "      <td>4659.000000</td>\n",
              "      <td>7898.750000</td>\n",
              "      <td>4985.919954</td>\n",
              "    </tr>\n",
              "    <tr>\n",
              "      <th>max</th>\n",
              "      <td>50.000000</td>\n",
              "      <td>471.000000</td>\n",
              "      <td>3.000000</td>\n",
              "      <td>100.000000</td>\n",
              "      <td>1.000000</td>\n",
              "      <td>649.000000</td>\n",
              "      <td>17.000000</td>\n",
              "      <td>17580.000000</td>\n",
              "      <td>58812.000000</td>\n",
              "      <td>22638.325941</td>\n",
              "    </tr>\n",
              "  </tbody>\n",
              "</table>\n",
              "</div>"
            ],
            "text/plain": [
              "          Stall_no  Market_Category  ...  Maximum_price  Selling_Price\n",
              "count  9798.000000      9798.000000  ...    9798.000000    9798.000000\n",
              "mean     25.407328       198.414064  ...    6137.877424    2946.686658\n",
              "std      14.359772       169.767862  ...    3787.192874    3239.546326\n",
              "min       0.000000         0.000000  ...       0.000000   -6062.470000\n",
              "25%      13.000000        55.000000  ...    3677.000000       0.000000\n",
              "50%      25.000000       129.000000  ...    5413.500000    2228.738640\n",
              "75%      38.000000       389.000000  ...    7898.750000    4985.919954\n",
              "max      50.000000       471.000000  ...   58812.000000   22638.325941\n",
              "\n",
              "[8 rows x 10 columns]"
            ]
          },
          "metadata": {
            "tags": []
          },
          "execution_count": 10
        }
      ]
    },
    {
      "cell_type": "code",
      "metadata": {
        "id": "Ax5HeLhFp-cX"
      },
      "source": [
        "ID_COL ,TARGET_COL = 'Product_id','Selling_Price'\n",
        "\n",
        "num_cols = ['Stall_no','Market_Category','Grade','Demand','Discount_avail','charges_1','charges_2 (%)','Minimum_price','Maximum_price']\n",
        "cat_cols = ['Customer_name','Loyalty_customer','Product_Category']\n",
        "date_cols = ['instock_date']"
      ],
      "execution_count": null,
      "outputs": []
    },
    {
      "cell_type": "code",
      "metadata": {
        "id": "rQ9QUBZ1cI9o"
      },
      "source": [
        "df['Selling_Price'][df['Selling_Price'] < 0] = 0"
      ],
      "execution_count": null,
      "outputs": []
    },
    {
      "cell_type": "code",
      "metadata": {
        "id": "9Mln5GbLSpSC"
      },
      "source": [
        "df[num_cols+['Selling_Price']] = df[num_cols+['Selling_Price']].apply(lambda x: np.log1p(x))"
      ],
      "execution_count": null,
      "outputs": []
    },
    {
      "cell_type": "code",
      "metadata": {
        "id": "W3CLJwDxJhZW"
      },
      "source": [
        "df[cat_cols] = df[cat_cols].apply(lambda x: pd.factorize(x)[0])"
      ],
      "execution_count": null,
      "outputs": []
    },
    {
      "cell_type": "code",
      "metadata": {
        "id": "MQe9X3OlMuv1"
      },
      "source": [
        "df['instock_date'] = pd.to_datetime(df['instock_date'],format='%Y-%m-%d')\n",
        "df['instock_date_day'] = df['instock_date'].dt.day\n",
        "\n",
        "df['instock_date_dayofweek'] = df['instock_date'].dt.dayofweek\n",
        "df['instock_date_year'] = df['instock_date'].dt.year\n",
        "df['instock_date_month'] = df['instock_date'].dt.month"
      ],
      "execution_count": null,
      "outputs": []
    },
    {
      "cell_type": "code",
      "metadata": {
        "colab": {
          "base_uri": "https://localhost:8080/"
        },
        "id": "2X_Y2Lb0wS77",
        "outputId": "b6e2fa6d-7013-4642-fca0-5cff23e30e3f"
      },
      "source": [
        "df.nunique()"
      ],
      "execution_count": null,
      "outputs": [
        {
          "output_type": "execute_result",
          "data": {
            "text/plain": [
              "Product_id                9798\n",
              "Stall_no                    51\n",
              "instock_date              7688\n",
              "Market_Category            275\n",
              "Customer_name             8960\n",
              "Loyalty_customer             2\n",
              "Product_Category            10\n",
              "Grade                        4\n",
              "Demand                     100\n",
              "Discount_avail               2\n",
              "charges_1                  495\n",
              "charges_2 (%)               18\n",
              "Minimum_price             5380\n",
              "Maximum_price             6329\n",
              "Selling_Price             6308\n",
              "instock_date_day            31\n",
              "instock_date_dayofweek       7\n",
              "instock_date_year            3\n",
              "instock_date_month          11\n",
              "dtype: int64"
            ]
          },
          "metadata": {
            "tags": []
          },
          "execution_count": 16
        }
      ]
    },
    {
      "cell_type": "code",
      "metadata": {
        "id": "Zy1itOCEOWOm"
      },
      "source": [
        "df['instock_date_count'] = df['instock_date'].map(df['instock_date'].value_counts())\n",
        "df['Stall_no_count'] = df['Stall_no'].map(df['Stall_no'].value_counts())\n",
        "df['Market_Category_count'] = df['Market_Category'].map(df['Market_Category'].value_counts())\n",
        "\n"
      ],
      "execution_count": null,
      "outputs": []
    },
    {
      "cell_type": "code",
      "metadata": {
        "id": "blritgzxdl4L"
      },
      "source": [
        "df['Loyalty_customer_mean_Minimum_price'] = df.groupby('Loyalty_customer')['Minimum_price'].transform('mean')\n",
        "df['Loyalty_customer_max_Minimum_price'] = df.groupby('Loyalty_customer')['Minimum_price'].transform('max')\n",
        "df['Loyalty_customer_min_Minimum_price'] = df.groupby('Loyalty_customer')['Minimum_price'].transform('min')\n",
        "\n",
        "df['Loyalty_customer_mean_Maximum_price'] = df.groupby('Loyalty_customer')['Maximum_price'].transform('mean')\n",
        "df['Loyalty_customer_max_Maximum_price'] = df.groupby('Loyalty_customer')['Maximum_price'].transform('max')\n",
        "df['Loyalty_customer_min_Maximum_price'] = df.groupby('Loyalty_customer')['Maximum_price'].transform('min')"
      ],
      "execution_count": null,
      "outputs": []
    },
    {
      "cell_type": "code",
      "metadata": {
        "id": "RNcM06SU47H8"
      },
      "source": [
        "df['Product_Category_mean_Minimum_price'] = df.groupby('Product_Category')['Minimum_price'].transform('mean')\n",
        "df['Product_Category_max_Minimum_price'] = df.groupby('Product_Category')['Minimum_price'].transform('max')\n",
        "df['Product_Category_min_Minimum_price'] = df.groupby('Product_Category')['Minimum_price'].transform('min')\n",
        "\n",
        "df['Product_Category_mean_Maximum_price'] = df.groupby('Product_Category')['Maximum_price'].transform('mean')\n",
        "df['Product_Category_max_Maximum_price'] = df.groupby('Product_Category')['Maximum_price'].transform('max')\n",
        "df['Product_Category_min_Maximum_price'] = df.groupby('Product_Category')['Maximum_price'].transform('min')"
      ],
      "execution_count": null,
      "outputs": []
    },
    {
      "cell_type": "code",
      "metadata": {
        "id": "rJ62ny6yU7U5"
      },
      "source": [
        "train_proc, test_proc = df[:train.shape[0]], df[train.shape[0]:].reset_index(drop = True)\n",
        "features = [c for c in train_proc.columns if c not in [TARGET_COL,ID_COL]]\n",
        "cat_num_cols = [c for c in features if c not in date_cols]"
      ],
      "execution_count": null,
      "outputs": []
    },
    {
      "cell_type": "code",
      "metadata": {
        "id": "46y0eWzGVCud"
      },
      "source": [
        "trn, val = train_test_split(train_proc, test_size=0.2, random_state = 1)\n",
        "\n",
        "###### Input to our model will be the features\n",
        "X_trn, X_val = trn[features], val[features]\n",
        "\n",
        "###### Output of our model will be the TARGET_COL\n",
        "y_trn, y_val = trn[TARGET_COL], val[TARGET_COL]\n",
        "\n",
        "##### Features for the test data that we will be predicting\n",
        "X_test = test_proc[features]"
      ],
      "execution_count": null,
      "outputs": []
    },
    {
      "cell_type": "code",
      "metadata": {
        "id": "nMk2fFzQaZJ_"
      },
      "source": [
        "from sklearn.preprocessing import StandardScaler   \n",
        "scaler = StandardScaler()\n",
        "_ = scaler.fit(X_trn[num_cols])\n",
        "\n",
        "X_trn = scaler.transform(X_trn[num_cols])\n",
        "X_val = scaler.transform(X_val[num_cols])\n",
        "X_test = scaler.transform(X_test[num_cols])"
      ],
      "execution_count": null,
      "outputs": []
    },
    {
      "cell_type": "code",
      "metadata": {
        "colab": {
          "base_uri": "https://localhost:8080/"
        },
        "id": "JCi8EQ1S68Jt",
        "outputId": "be81d3e8-a7e6-4c48-a27c-4787a494974a"
      },
      "source": [
        "from sklearn.model_selection import RandomizedSearchCV\n",
        "\n",
        "hyperparam_combs = {\n",
        "    'max_depth': [4, 6, 8, 10, 12],\n",
        "    'min_samples_split': [2, 10, 20, 30, 40],\n",
        "    'max_features': [0.2, 0.4, 0.6, 0.8, 1],\n",
        "    'max_leaf_nodes': [8, 16, 32, 64, 128]\n",
        "}\n",
        "\n",
        "clf = RandomizedSearchCV(RandomForestRegressor(),\n",
        "                         hyperparam_combs,\n",
        "                         scoring='neg_root_mean_squared_error',\n",
        "                         random_state=1,\n",
        "                         n_iter=20)\n",
        "\n",
        "search = clf.fit(train_proc[num_cols], train_proc[TARGET_COL])\n",
        "\n",
        "search.best_params_"
      ],
      "execution_count": null,
      "outputs": [
        {
          "output_type": "execute_result",
          "data": {
            "text/plain": [
              "{'max_depth': 12,\n",
              " 'max_features': 0.8,\n",
              " 'max_leaf_nodes': 128,\n",
              " 'min_samples_split': 2}"
            ]
          },
          "metadata": {
            "tags": []
          },
          "execution_count": 17
        }
      ]
    },
    {
      "cell_type": "code",
      "metadata": {
        "id": "wvRlGr4WVOWf"
      },
      "source": [
        "############# Fitting and Predicting ################\n",
        "\n",
        "clf = RandomForestRegressor(random_state=2,\n",
        "                            max_depth = 12,\n",
        "                            max_features = 0.8,\n",
        "                            max_leaf_nodes = 128,\n",
        "                            min_samples_split = 2)\n",
        "\n",
        " \n",
        "\n",
        "_ = clf.fit(X_trn, y_trn)\n",
        "\n",
        "### Instead of directly predicting the classes we will obtain the probability of positive class.\n",
        "preds_val = clf.predict(X_val)\n",
        "preds_test = clf.predict(X_test)"
      ],
      "execution_count": null,
      "outputs": []
    },
    {
      "cell_type": "code",
      "metadata": {
        "id": "GbNPGK7IukKP"
      },
      "source": [
        "preds_val[ preds_val< 0] = 0\n",
        "preds_test[preds_test < 0 ] = 0"
      ],
      "execution_count": null,
      "outputs": []
    },
    {
      "cell_type": "code",
      "metadata": {
        "id": "BocQ7ZGSVSAj"
      },
      "source": [
        "from sklearn.metrics import mean_squared_log_error\n",
        "\n",
        "def av_metric(y_true, y_pred):\n",
        "  return max(0,100 - np.sqrt(mean_squared_log_error(y_true, y_pred)))"
      ],
      "execution_count": null,
      "outputs": []
    },
    {
      "cell_type": "code",
      "metadata": {
        "id": "c2h_IgDyVVVP",
        "colab": {
          "base_uri": "https://localhost:8080/"
        },
        "outputId": "504f01d6-d96e-479d-a076-f6b6fd3797e1"
      },
      "source": [
        "av_metric_score = av_metric(y_val, preds_val)\n",
        "\n",
        "print(f'AV metric score is: {av_metric_score}') # 163.09 - RF , 162.81 - LGBM , 165.27 - LR for country "
      ],
      "execution_count": null,
      "outputs": [
        {
          "output_type": "stream",
          "text": [
            "AV metric score is: 99.44354186649427\n"
          ],
          "name": "stdout"
        }
      ]
    },
    {
      "cell_type": "code",
      "metadata": {
        "id": "K_ZBQKGUTiDy",
        "colab": {
          "base_uri": "https://localhost:8080/",
          "height": 17
        },
        "outputId": "4def8add-53c3-424c-fd6d-3c606ecd9381"
      },
      "source": [
        "# preds_test_t= np.expm1(preds_test)\n",
        "download_preds(preds_test, file_name = 'RF4.csv')"
      ],
      "execution_count": null,
      "outputs": [
        {
          "output_type": "display_data",
          "data": {
            "application/javascript": [
              "\n",
              "    async function download(id, filename, size) {\n",
              "      if (!google.colab.kernel.accessAllowed) {\n",
              "        return;\n",
              "      }\n",
              "      const div = document.createElement('div');\n",
              "      const label = document.createElement('label');\n",
              "      label.textContent = `Downloading \"${filename}\": `;\n",
              "      div.appendChild(label);\n",
              "      const progress = document.createElement('progress');\n",
              "      progress.max = size;\n",
              "      div.appendChild(progress);\n",
              "      document.body.appendChild(div);\n",
              "\n",
              "      const buffers = [];\n",
              "      let downloaded = 0;\n",
              "\n",
              "      const channel = await google.colab.kernel.comms.open(id);\n",
              "      // Send a message to notify the kernel that we're ready.\n",
              "      channel.send({})\n",
              "\n",
              "      for await (const message of channel.messages) {\n",
              "        // Send a message to notify the kernel that we're ready.\n",
              "        channel.send({})\n",
              "        if (message.buffers) {\n",
              "          for (const buffer of message.buffers) {\n",
              "            buffers.push(buffer);\n",
              "            downloaded += buffer.byteLength;\n",
              "            progress.value = downloaded;\n",
              "          }\n",
              "        }\n",
              "      }\n",
              "      const blob = new Blob(buffers, {type: 'application/binary'});\n",
              "      const a = document.createElement('a');\n",
              "      a.href = window.URL.createObjectURL(blob);\n",
              "      a.download = filename;\n",
              "      div.appendChild(a);\n",
              "      a.click();\n",
              "      div.remove();\n",
              "    }\n",
              "  "
            ],
            "text/plain": [
              "<IPython.core.display.Javascript object>"
            ]
          },
          "metadata": {
            "tags": []
          }
        },
        {
          "output_type": "display_data",
          "data": {
            "application/javascript": [
              "download(\"download_bad9ed87-4a85-453e-bc3b-ed19e3ed2353\", \"RF4.csv\", 120863)"
            ],
            "text/plain": [
              "<IPython.core.display.Javascript object>"
            ]
          },
          "metadata": {
            "tags": []
          }
        }
      ]
    },
    {
      "cell_type": "code",
      "metadata": {
        "id": "CZrypsXa08L_"
      },
      "source": [
        "def run_clf_kfold(clf, train, test, features):\n",
        "\n",
        "  N_SPLITS = 5\n",
        "\n",
        "  oofs = np.zeros(len(train))\n",
        "  preds = np.zeros((len(test)))\n",
        "\n",
        "  target = train[TARGET_COL]\n",
        "\n",
        "  folds = StratifiedKFold(n_splits = N_SPLITS)\n",
        "  stratified_target = pd.qcut(train[TARGET_COL], 10, labels = False, duplicates='drop')\n",
        "\n",
        "  for fold_, (trn_idx, val_idx) in enumerate(folds.split(train, stratified_target)):\n",
        "    print(f'\\n------------- Fold {fold_ + 1} -------------')\n",
        "\n",
        "    ############# Get train, validation and test sets along with targets ################\n",
        "  \n",
        "    ### Training Set\n",
        "    X_trn, y_trn = train[features].iloc[trn_idx], target.iloc[trn_idx]\n",
        "\n",
        "    ### Validation Set\n",
        "    X_val, y_val = train[features].iloc[val_idx], target.iloc[val_idx]\n",
        "\n",
        "    ### Test Set\n",
        "    X_test = test[features]\n",
        "\n",
        "    ############# Scaling Data ################\n",
        "    scaler = StandardScaler()\n",
        "    _ = scaler.fit(X_trn)\n",
        "\n",
        "    X_trn = scaler.transform(X_trn)\n",
        "    X_val = scaler.transform(X_val)\n",
        "    X_test = scaler.transform(X_test)\n",
        "\n",
        "\n",
        "    ############# Fitting and Predicting ################\n",
        "\n",
        "    _ = clf.fit(X_trn, y_trn)\n",
        "\n",
        "    ### Instead of directly predicting the classes we will obtain the probability of positive class.\n",
        "    preds_val = clf.predict(X_val)\n",
        "    preds_test = clf.predict(X_test)\n",
        "\n",
        "    preds_val[ preds_val< 0] = 0\n",
        "    preds_test[preds_test < 0 ] = 0\n",
        "\n",
        "    fold_score = av_metric(y_val, preds_val)\n",
        "    print(f'\\nAV metric score for validation set is {fold_score}')\n",
        "\n",
        "    oofs[val_idx] = preds_val\n",
        "    preds += preds_test / N_SPLITS\n",
        "\n",
        "\n",
        "  oofs_score = av_metric(target, oofs)\n",
        "  print(f'\\n\\nAV metric for oofs is {oofs_score}')\n",
        "\n",
        "  return oofs, preds"
      ],
      "execution_count": null,
      "outputs": []
    },
    {
      "cell_type": "code",
      "metadata": {
        "id": "zPB66MdNLvNM",
        "colab": {
          "base_uri": "https://localhost:8080/"
        },
        "outputId": "0fd052ef-119e-4780-eaf5-75d9391b3b50"
      },
      "source": [
        "clf = LGBMRegressor()\n",
        "lgb_oofs, lgb_preds = run_clf_kfold(clf, train_proc, test_proc, num_cols)"
      ],
      "execution_count": null,
      "outputs": [
        {
          "output_type": "stream",
          "text": [
            "\n",
            "------------- Fold 1 -------------\n",
            "\n",
            "AV metric score for validation set is 99.26152422680866\n",
            "\n",
            "------------- Fold 2 -------------\n",
            "\n",
            "AV metric score for validation set is 99.16345651162624\n",
            "\n",
            "------------- Fold 3 -------------\n",
            "\n",
            "AV metric score for validation set is 99.30767948888672\n",
            "\n",
            "------------- Fold 4 -------------\n",
            "\n",
            "AV metric score for validation set is 99.11208361696247\n",
            "\n",
            "------------- Fold 5 -------------\n",
            "\n",
            "AV metric score for validation set is 99.38550223845989\n",
            "\n",
            "\n",
            "AV metric for oofs is 99.2396771134734\n"
          ],
          "name": "stdout"
        }
      ]
    },
    {
      "cell_type": "code",
      "metadata": {
        "id": "BqEB8XtxQKQt",
        "colab": {
          "base_uri": "https://localhost:8080/",
          "height": 17
        },
        "outputId": "223769f0-0763-41db-db8a-37859694dfe8"
      },
      "source": [
        "# lgb_preds_t = np.expm1(lgb_preds)\n",
        "download_preds(lgb_preds, file_name = 'll.csv')"
      ],
      "execution_count": null,
      "outputs": [
        {
          "output_type": "display_data",
          "data": {
            "application/javascript": [
              "\n",
              "    async function download(id, filename, size) {\n",
              "      if (!google.colab.kernel.accessAllowed) {\n",
              "        return;\n",
              "      }\n",
              "      const div = document.createElement('div');\n",
              "      const label = document.createElement('label');\n",
              "      label.textContent = `Downloading \"${filename}\": `;\n",
              "      div.appendChild(label);\n",
              "      const progress = document.createElement('progress');\n",
              "      progress.max = size;\n",
              "      div.appendChild(progress);\n",
              "      document.body.appendChild(div);\n",
              "\n",
              "      const buffers = [];\n",
              "      let downloaded = 0;\n",
              "\n",
              "      const channel = await google.colab.kernel.comms.open(id);\n",
              "      // Send a message to notify the kernel that we're ready.\n",
              "      channel.send({})\n",
              "\n",
              "      for await (const message of channel.messages) {\n",
              "        // Send a message to notify the kernel that we're ready.\n",
              "        channel.send({})\n",
              "        if (message.buffers) {\n",
              "          for (const buffer of message.buffers) {\n",
              "            buffers.push(buffer);\n",
              "            downloaded += buffer.byteLength;\n",
              "            progress.value = downloaded;\n",
              "          }\n",
              "        }\n",
              "      }\n",
              "      const blob = new Blob(buffers, {type: 'application/binary'});\n",
              "      const a = document.createElement('a');\n",
              "      a.href = window.URL.createObjectURL(blob);\n",
              "      a.download = filename;\n",
              "      div.appendChild(a);\n",
              "      a.click();\n",
              "      div.remove();\n",
              "    }\n",
              "  "
            ],
            "text/plain": [
              "<IPython.core.display.Javascript object>"
            ]
          },
          "metadata": {
            "tags": []
          }
        },
        {
          "output_type": "display_data",
          "data": {
            "application/javascript": [
              "download(\"download_26afda18-333d-48e1-a2bf-4425b67d4453\", \"ll.csv\", 120939)"
            ],
            "text/plain": [
              "<IPython.core.display.Javascript object>"
            ]
          },
          "metadata": {
            "tags": []
          }
        }
      ]
    },
    {
      "cell_type": "code",
      "metadata": {
        "id": "jHDJGfBOWfA6"
      },
      "source": [
        "\n",
        "def run_gradient_boosting(clf, fit_params, train, test, features):\n",
        "  N_SPLITS = 5\n",
        "  oofs = np.zeros(len(train_proc))\n",
        "  preds = np.zeros((len(test_proc)))\n",
        "\n",
        "  target = train[TARGET_COL]\n",
        "\n",
        "  folds = StratifiedKFold(n_splits = N_SPLITS)\n",
        "  stratified_target = pd.qcut(train[TARGET_COL], 10, labels = False, duplicates='drop')\n",
        "\n",
        "  feature_importances = pd.DataFrame()\n",
        "\n",
        "  for fold_, (trn_idx, val_idx) in enumerate(folds.split(train, stratified_target)):\n",
        "    print(f'\\n------------- Fold {fold_ + 1} -------------')\n",
        "\n",
        "    ### Training Set\n",
        "    X_trn, y_trn = train[features].iloc[trn_idx], target.iloc[trn_idx]\n",
        "\n",
        "    ### Validation Set\n",
        "    X_val, y_val = train[features].iloc[val_idx], target.iloc[val_idx]\n",
        "\n",
        "    ### Test Set\n",
        "    X_test = test[features]\n",
        "\n",
        "    \n",
        "    scaler = StandardScaler()\n",
        "    _ = scaler.fit(X_trn)\n",
        "\n",
        "    X_trn = scaler.transform(X_trn)\n",
        "    X_val = scaler.transform(X_val)\n",
        "    X_test = scaler.transform(X_test)\n",
        "\n",
        "    _ = clf.fit(X_trn, y_trn, eval_set = [(X_val, y_val)], **fit_params)\n",
        "\n",
        "    fold_importance = pd.DataFrame({'fold': fold_ + 1, 'feature': features, 'importance': clf.feature_importances_})\n",
        "    feature_importances = pd.concat([feature_importances, fold_importance], axis=0)\n",
        "\n",
        "    ### Instead of directly predicting the classes we will obtain the probability of positive class.\n",
        "    preds_val = clf.predict(X_val)\n",
        "    preds_test = clf.predict(X_test)\n",
        "     \n",
        "    preds_val[ preds_val< 0] = 0\n",
        "    preds_test[preds_test < 0 ] = 0 \n",
        "\n",
        "    fold_score = av_metric(y_val, preds_val)\n",
        "    print(f'\\nAV metric score for validation set is {fold_score}')\n",
        "\n",
        "    oofs[val_idx] = preds_val\n",
        "    preds += preds_test / N_SPLITS\n",
        "\n",
        "\n",
        "  oofs_score = av_metric(target, oofs)\n",
        "  print(f'\\n\\nAV metric for oofs is {oofs_score}')\n",
        "\n",
        "  feature_importances = feature_importances.reset_index(drop = True)\n",
        "  fi = feature_importances.groupby('feature')['importance'].mean().sort_values(ascending = False)[:20][::-1]\n",
        "  fi.plot(kind = 'barh', figsize=(12, 6))\n",
        "\n",
        "  return oofs, preds, fi"
      ],
      "execution_count": null,
      "outputs": []
    },
    {
      "cell_type": "code",
      "metadata": {
        "id": "mr_sMQLBWsV_",
        "colab": {
          "base_uri": "https://localhost:8080/",
          "height": 1000
        },
        "outputId": "26ae5442-1251-4a33-dc3a-4fbdd894f795"
      },
      "source": [
        "clf = LGBMRegressor(n_estimators = 1000,\n",
        "                        learning_rate = 0.01,\n",
        "                        colsample_bytree = 0.76,\n",
        "                        metric = 'None',\n",
        "                        )\n",
        "fit_params = {'verbose': 100, 'early_stopping_rounds': 100, 'eval_metric': 'rmse'}\n",
        "\n",
        "lgb_oofs, lgb_preds, fi = run_gradient_boosting(clf, fit_params, train_proc, test_proc, num_cols)"
      ],
      "execution_count": null,
      "outputs": [
        {
          "output_type": "stream",
          "text": [
            "\n",
            "------------- Fold 1 -------------\n",
            "Training until validation scores don't improve for 100 rounds.\n",
            "[100]\tvalid_0's rmse: 1450.62\n",
            "[200]\tvalid_0's rmse: 886.609\n",
            "[300]\tvalid_0's rmse: 651.489\n",
            "[400]\tvalid_0's rmse: 572.709\n",
            "[500]\tvalid_0's rmse: 550.324\n",
            "[600]\tvalid_0's rmse: 542.236\n",
            "[700]\tvalid_0's rmse: 539.431\n",
            "[800]\tvalid_0's rmse: 538.294\n",
            "[900]\tvalid_0's rmse: 536.968\n",
            "[1000]\tvalid_0's rmse: 535.275\n",
            "Did not meet early stopping. Best iteration is:\n",
            "[1000]\tvalid_0's rmse: 535.275\n",
            "\n",
            "AV metric score for validation set is 99.25798852212682\n",
            "\n",
            "------------- Fold 2 -------------\n",
            "Training until validation scores don't improve for 100 rounds.\n",
            "[100]\tvalid_0's rmse: 1509.6\n",
            "[200]\tvalid_0's rmse: 925.793\n",
            "[300]\tvalid_0's rmse: 684.631\n",
            "[400]\tvalid_0's rmse: 605.728\n",
            "[500]\tvalid_0's rmse: 583.52\n",
            "[600]\tvalid_0's rmse: 576.079\n",
            "[700]\tvalid_0's rmse: 573.828\n",
            "[800]\tvalid_0's rmse: 573.563\n",
            "[900]\tvalid_0's rmse: 574\n",
            "Early stopping, best iteration is:\n",
            "[849]\tvalid_0's rmse: 573.316\n",
            "\n",
            "AV metric score for validation set is 99.11665780606829\n",
            "\n",
            "------------- Fold 3 -------------\n",
            "Training until validation scores don't improve for 100 rounds.\n",
            "[100]\tvalid_0's rmse: 1479.68\n",
            "[200]\tvalid_0's rmse: 910.783\n",
            "[300]\tvalid_0's rmse: 668.377\n",
            "[400]\tvalid_0's rmse: 584.509\n",
            "[500]\tvalid_0's rmse: 559.651\n",
            "[600]\tvalid_0's rmse: 550.08\n",
            "[700]\tvalid_0's rmse: 547.113\n",
            "[800]\tvalid_0's rmse: 545.194\n",
            "[900]\tvalid_0's rmse: 543.705\n",
            "[1000]\tvalid_0's rmse: 543.096\n",
            "Did not meet early stopping. Best iteration is:\n",
            "[996]\tvalid_0's rmse: 543.079\n",
            "\n",
            "AV metric score for validation set is 99.28320374709793\n",
            "\n",
            "------------- Fold 4 -------------\n",
            "Training until validation scores don't improve for 100 rounds.\n",
            "[100]\tvalid_0's rmse: 1486.93\n",
            "[200]\tvalid_0's rmse: 976.669\n",
            "[300]\tvalid_0's rmse: 785.334\n",
            "[400]\tvalid_0's rmse: 727.601\n",
            "[500]\tvalid_0's rmse: 711.89\n",
            "[600]\tvalid_0's rmse: 706.063\n",
            "[700]\tvalid_0's rmse: 704.893\n",
            "[800]\tvalid_0's rmse: 704.903\n",
            "[900]\tvalid_0's rmse: 704.943\n",
            "Early stopping, best iteration is:\n",
            "[812]\tvalid_0's rmse: 704.761\n",
            "\n",
            "AV metric score for validation set is 99.07488964128794\n",
            "\n",
            "------------- Fold 5 -------------\n",
            "Training until validation scores don't improve for 100 rounds.\n",
            "[100]\tvalid_0's rmse: 1489.81\n",
            "[200]\tvalid_0's rmse: 912.622\n",
            "[300]\tvalid_0's rmse: 670.213\n",
            "[400]\tvalid_0's rmse: 587.71\n",
            "[500]\tvalid_0's rmse: 563.432\n",
            "[600]\tvalid_0's rmse: 554.285\n",
            "[700]\tvalid_0's rmse: 551.872\n",
            "[800]\tvalid_0's rmse: 551.015\n",
            "Early stopping, best iteration is:\n",
            "[758]\tvalid_0's rmse: 550.718\n",
            "\n",
            "AV metric score for validation set is 99.37025610644771\n",
            "\n",
            "\n",
            "AV metric for oofs is 99.21297176400843\n"
          ],
          "name": "stdout"
        },
        {
          "output_type": "display_data",
          "data": {
            "image/png": "[encoded data removed]",
            "text/plain": [
              "<Figure size 864x432 with 1 Axes>"
            ]
          },
          "metadata": {
            "tags": [],
            "needs_background": "light"
          }
        }
      ]
    },
    {
      "cell_type": "code",
      "metadata": {
        "id": "6iJ-DoGHoq9C",
        "colab": {
          "base_uri": "https://localhost:8080/",
          "height": 17
        },
        "outputId": "f7896288-b13a-4ad2-e8d3-12d0cf57b4db"
      },
      "source": [
        "# lgb_preds_t = np.expm1(lgb_preds)\n",
        "download_preds(lgb_preds, file_name = 'fl.csv')\n"
      ],
      "execution_count": null,
      "outputs": [
        {
          "output_type": "display_data",
          "data": {
            "application/javascript": [
              "\n",
              "    async function download(id, filename, size) {\n",
              "      if (!google.colab.kernel.accessAllowed) {\n",
              "        return;\n",
              "      }\n",
              "      const div = document.createElement('div');\n",
              "      const label = document.createElement('label');\n",
              "      label.textContent = `Downloading \"${filename}\": `;\n",
              "      div.appendChild(label);\n",
              "      const progress = document.createElement('progress');\n",
              "      progress.max = size;\n",
              "      div.appendChild(progress);\n",
              "      document.body.appendChild(div);\n",
              "\n",
              "      const buffers = [];\n",
              "      let downloaded = 0;\n",
              "\n",
              "      const channel = await google.colab.kernel.comms.open(id);\n",
              "      // Send a message to notify the kernel that we're ready.\n",
              "      channel.send({})\n",
              "\n",
              "      for await (const message of channel.messages) {\n",
              "        // Send a message to notify the kernel that we're ready.\n",
              "        channel.send({})\n",
              "        if (message.buffers) {\n",
              "          for (const buffer of message.buffers) {\n",
              "            buffers.push(buffer);\n",
              "            downloaded += buffer.byteLength;\n",
              "            progress.value = downloaded;\n",
              "          }\n",
              "        }\n",
              "      }\n",
              "      const blob = new Blob(buffers, {type: 'application/binary'});\n",
              "      const a = document.createElement('a');\n",
              "      a.href = window.URL.createObjectURL(blob);\n",
              "      a.download = filename;\n",
              "      div.appendChild(a);\n",
              "      a.click();\n",
              "      div.remove();\n",
              "    }\n",
              "  "
            ],
            "text/plain": [
              "<IPython.core.display.Javascript object>"
            ]
          },
          "metadata": {
            "tags": []
          }
        },
        {
          "output_type": "display_data",
          "data": {
            "application/javascript": [
              "download(\"download_92e49b9f-15c9-4f8c-bff5-2dbd89d836c8\", \"fl.csv\", 120841)"
            ],
            "text/plain": [
              "<IPython.core.display.Javascript object>"
            ]
          },
          "metadata": {
            "tags": []
          }
        }
      ]
    },
    {
      "cell_type": "code",
      "metadata": {
        "id": "21NA3khIWxRH",
        "colab": {
          "base_uri": "https://localhost:8080/",
          "height": 1000
        },
        "outputId": "d352e917-b822-4eac-c8b3-e52cd5305f21"
      },
      "source": [
        "clf = LGBMRegressor(n_estimators = 5000,\n",
        "                        learning_rate = 0.01,\n",
        "                        colsample_bytree = 0.76,\n",
        "                        metric = 'None',\n",
        "                        )\n",
        "fit_params = {'verbose': 300, 'early_stopping_rounds': 200, 'eval_metric': 'rmse'}\n",
        "\n",
        "lgb_oofs, lgb_preds, fi = run_gradient_boosting(clf, fit_params, train_proc, test_proc, num_cols)"
      ],
      "execution_count": null,
      "outputs": [
        {
          "output_type": "stream",
          "text": [
            "\n",
            "------------- Fold 1 -------------\n",
            "Training until validation scores don't improve for 200 rounds.\n",
            "[300]\tvalid_0's rmse: 651.489\n",
            "[600]\tvalid_0's rmse: 542.236\n",
            "[900]\tvalid_0's rmse: 536.968\n",
            "[1200]\tvalid_0's rmse: 535.173\n",
            "Early stopping, best iteration is:\n",
            "[1074]\tvalid_0's rmse: 534.826\n",
            "\n",
            "AV metric score for validation set is 99.25904713933375\n",
            "\n",
            "------------- Fold 2 -------------\n",
            "Training until validation scores don't improve for 200 rounds.\n",
            "[300]\tvalid_0's rmse: 684.631\n",
            "[600]\tvalid_0's rmse: 576.079\n",
            "[900]\tvalid_0's rmse: 574\n",
            "Early stopping, best iteration is:\n",
            "[849]\tvalid_0's rmse: 573.316\n",
            "\n",
            "AV metric score for validation set is 99.11665780606829\n",
            "\n",
            "------------- Fold 3 -------------\n",
            "Training until validation scores don't improve for 200 rounds.\n",
            "[300]\tvalid_0's rmse: 668.377\n",
            "[600]\tvalid_0's rmse: 550.08\n",
            "[900]\tvalid_0's rmse: 543.705\n",
            "Early stopping, best iteration is:\n",
            "[996]\tvalid_0's rmse: 543.079\n",
            "\n",
            "AV metric score for validation set is 99.28320374709793\n",
            "\n",
            "------------- Fold 4 -------------\n",
            "Training until validation scores don't improve for 200 rounds.\n",
            "[300]\tvalid_0's rmse: 785.334\n",
            "[600]\tvalid_0's rmse: 706.063\n",
            "[900]\tvalid_0's rmse: 704.943\n",
            "Early stopping, best iteration is:\n",
            "[812]\tvalid_0's rmse: 704.761\n",
            "\n",
            "AV metric score for validation set is 99.07488964128794\n",
            "\n",
            "------------- Fold 5 -------------\n",
            "Training until validation scores don't improve for 200 rounds.\n",
            "[300]\tvalid_0's rmse: 670.213\n",
            "[600]\tvalid_0's rmse: 554.285\n",
            "[900]\tvalid_0's rmse: 550.854\n",
            "Early stopping, best iteration is:\n",
            "[981]\tvalid_0's rmse: 550.029\n",
            "\n",
            "AV metric score for validation set is 99.36839235289794\n",
            "\n",
            "\n",
            "AV metric for oofs is 99.21287274503658\n"
          ],
          "name": "stdout"
        },
        {
          "output_type": "display_data",
          "data": {
            "image/png": "[encoded data removed]",
            "text/plain": [
              "<Figure size 864x432 with 1 Axes>"
            ]
          },
          "metadata": {
            "tags": [],
            "needs_background": "light"
          }
        }
      ]
    },
    {
      "cell_type": "code",
      "metadata": {
        "id": "EJNoG4ZDflp1",
        "colab": {
          "base_uri": "https://localhost:8080/",
          "height": 17
        },
        "outputId": "e18d7386-de2e-49a0-b351-66b2d97e077b"
      },
      "source": [
        "# lgb_preds_t = np.expm1(lgb_preds)\n",
        "download_preds(lgb_preds, file_name = 'FLGB.csv')"
      ],
      "execution_count": null,
      "outputs": [
        {
          "output_type": "display_data",
          "data": {
            "application/javascript": [
              "\n",
              "    async function download(id, filename, size) {\n",
              "      if (!google.colab.kernel.accessAllowed) {\n",
              "        return;\n",
              "      }\n",
              "      const div = document.createElement('div');\n",
              "      const label = document.createElement('label');\n",
              "      label.textContent = `Downloading \"${filename}\": `;\n",
              "      div.appendChild(label);\n",
              "      const progress = document.createElement('progress');\n",
              "      progress.max = size;\n",
              "      div.appendChild(progress);\n",
              "      document.body.appendChild(div);\n",
              "\n",
              "      const buffers = [];\n",
              "      let downloaded = 0;\n",
              "\n",
              "      const channel = await google.colab.kernel.comms.open(id);\n",
              "      // Send a message to notify the kernel that we're ready.\n",
              "      channel.send({})\n",
              "\n",
              "      for await (const message of channel.messages) {\n",
              "        // Send a message to notify the kernel that we're ready.\n",
              "        channel.send({})\n",
              "        if (message.buffers) {\n",
              "          for (const buffer of message.buffers) {\n",
              "            buffers.push(buffer);\n",
              "            downloaded += buffer.byteLength;\n",
              "            progress.value = downloaded;\n",
              "          }\n",
              "        }\n",
              "      }\n",
              "      const blob = new Blob(buffers, {type: 'application/binary'});\n",
              "      const a = document.createElement('a');\n",
              "      a.href = window.URL.createObjectURL(blob);\n",
              "      a.download = filename;\n",
              "      div.appendChild(a);\n",
              "      a.click();\n",
              "      div.remove();\n",
              "    }\n",
              "  "
            ],
            "text/plain": [
              "<IPython.core.display.Javascript object>"
            ]
          },
          "metadata": {
            "tags": []
          }
        },
        {
          "output_type": "display_data",
          "data": {
            "application/javascript": [
              "download(\"download_84525588-203f-4517-a3b6-43cd8581f8b0\", \"FLGB.csv\", 120855)"
            ],
            "text/plain": [
              "<IPython.core.display.Javascript object>"
            ]
          },
          "metadata": {
            "tags": []
          }
        }
      ]
    },
    {
      "cell_type": "code",
      "metadata": {
        "id": "TMy1iTU8XMeG",
        "colab": {
          "base_uri": "https://localhost:8080/",
          "height": 1000
        },
        "outputId": "a74f3d16-7180-4655-ef2f-cdc86162e394"
      },
      "source": [
        "clf = CatBoostRegressor(n_estimators = 3000,\n",
        "                       learning_rate = 0.01,\n",
        "                       rsm = 0.4, ## Analogous to colsample_bytree\n",
        "                       random_state=2054,\n",
        "                       )\n",
        "\n",
        "fit_params = {'verbose': 200, 'early_stopping_rounds': 200}\n",
        "\n",
        "cb_oofs, cb_preds, fi = run_gradient_boosting(clf, fit_params, train_proc, test_proc, cat_num_cols)"
      ],
      "execution_count": null,
      "outputs": [
        {
          "output_type": "stream",
          "text": [
            "\n",
            "------------- Fold 1 -------------\n",
            "0:\tlearn: 2958.1049647\ttest: 2905.2647750\tbest: 2905.2647750 (0)\ttotal: 51.5ms\tremaining: 2m 34s\n",
            "200:\tlearn: 919.6140472\ttest: 873.6726853\tbest: 873.6726853 (200)\ttotal: 745ms\tremaining: 10.4s\n",
            "400:\tlearn: 623.2906811\ttest: 585.7335181\tbest: 585.7335181 (400)\ttotal: 1.37s\tremaining: 8.86s\n",
            "600:\tlearn: 557.1526785\ttest: 535.6303160\tbest: 535.6303160 (600)\ttotal: 2s\tremaining: 8s\n",
            "800:\tlearn: 527.9170958\ttest: 522.7270467\tbest: 522.7270467 (800)\ttotal: 2.72s\tremaining: 7.46s\n",
            "1000:\tlearn: 504.6208631\ttest: 517.5358022\tbest: 517.5040360 (999)\ttotal: 3.38s\tremaining: 6.76s\n",
            "1200:\tlearn: 485.2428643\ttest: 513.6247757\tbest: 513.6140590 (1199)\ttotal: 4.09s\tremaining: 6.13s\n",
            "1400:\tlearn: 467.7561540\ttest: 511.7181740\tbest: 511.6822929 (1399)\ttotal: 4.81s\tremaining: 5.49s\n",
            "1600:\tlearn: 452.1022711\ttest: 510.6634556\tbest: 510.5478741 (1564)\ttotal: 5.5s\tremaining: 4.8s\n",
            "Stopped by overfitting detector  (200 iterations wait)\n",
            "\n",
            "bestTest = 510.5478741\n",
            "bestIteration = 1564\n",
            "\n",
            "Shrink model to first 1565 iterations.\n",
            "\n",
            "AV metric score for validation set is 99.24450701367546\n",
            "\n",
            "------------- Fold 2 -------------\n",
            "0:\tlearn: 2930.7029125\ttest: 3014.8449160\tbest: 3014.8449160 (0)\ttotal: 4.55ms\tremaining: 13.6s\n",
            "200:\tlearn: 914.8742514\ttest: 948.9300308\tbest: 948.9300308 (200)\ttotal: 764ms\tremaining: 10.6s\n",
            "400:\tlearn: 621.2900901\ttest: 629.6654143\tbest: 629.6654143 (400)\ttotal: 1.47s\tremaining: 9.55s\n",
            "600:\tlearn: 555.1091900\ttest: 570.8415145\tbest: 570.8415145 (600)\ttotal: 2.19s\tremaining: 8.74s\n",
            "800:\tlearn: 522.4866579\ttest: 553.8499707\tbest: 553.8499707 (800)\ttotal: 2.87s\tremaining: 7.89s\n",
            "1000:\tlearn: 498.0574484\ttest: 545.4960501\tbest: 545.4960501 (1000)\ttotal: 3.58s\tremaining: 7.15s\n",
            "1200:\tlearn: 475.8038442\ttest: 541.1095232\tbest: 541.1095232 (1200)\ttotal: 4.26s\tremaining: 6.38s\n",
            "1400:\tlearn: 455.8230101\ttest: 538.2774648\tbest: 538.2774648 (1400)\ttotal: 4.93s\tremaining: 5.63s\n",
            "1600:\tlearn: 439.4997953\ttest: 536.7184276\tbest: 536.7184276 (1600)\ttotal: 5.56s\tremaining: 4.86s\n",
            "1800:\tlearn: 423.4965351\ttest: 535.6938520\tbest: 535.6771550 (1799)\ttotal: 6.27s\tremaining: 4.17s\n",
            "2000:\tlearn: 409.7072878\ttest: 535.0364348\tbest: 534.9983723 (1968)\ttotal: 6.91s\tremaining: 3.45s\n",
            "2200:\tlearn: 397.1420686\ttest: 534.8166957\tbest: 534.6046909 (2138)\ttotal: 7.58s\tremaining: 2.75s\n",
            "2400:\tlearn: 385.5594332\ttest: 534.3794092\tbest: 534.3615261 (2387)\ttotal: 8.25s\tremaining: 2.06s\n",
            "2600:\tlearn: 374.6063680\ttest: 534.3742243\tbest: 534.2405829 (2508)\ttotal: 8.86s\tremaining: 1.36s\n",
            "2800:\tlearn: 363.9071802\ttest: 534.0579859\tbest: 534.0261961 (2793)\ttotal: 9.55s\tremaining: 679ms\n",
            "Stopped by overfitting detector  (200 iterations wait)\n",
            "\n",
            "bestTest = 534.0261961\n",
            "bestIteration = 2793\n",
            "\n",
            "Shrink model to first 2794 iterations.\n",
            "\n",
            "AV metric score for validation set is 99.0915154614314\n",
            "\n",
            "------------- Fold 3 -------------\n",
            "0:\tlearn: 2947.9011037\ttest: 2946.6136945\tbest: 2946.6136945 (0)\ttotal: 3.19ms\tremaining: 9.57s\n",
            "200:\tlearn: 922.3828055\ttest: 892.5639467\tbest: 892.5639467 (200)\ttotal: 636ms\tremaining: 8.85s\n",
            "400:\tlearn: 625.5693542\ttest: 591.1932683\tbest: 591.1932683 (400)\ttotal: 1.37s\tremaining: 8.87s\n",
            "600:\tlearn: 559.7200141\ttest: 539.0449817\tbest: 539.0449817 (600)\ttotal: 2.01s\tremaining: 8.04s\n",
            "800:\tlearn: 526.5363367\ttest: 524.7449291\tbest: 524.7449291 (800)\ttotal: 2.63s\tremaining: 7.22s\n",
            "1000:\tlearn: 500.7924241\ttest: 517.8976102\tbest: 517.8798678 (998)\ttotal: 3.29s\tremaining: 6.58s\n",
            "1200:\tlearn: 478.6883513\ttest: 513.9588976\tbest: 513.9588976 (1200)\ttotal: 3.97s\tremaining: 5.95s\n",
            "1400:\tlearn: 459.2125225\ttest: 511.5402636\tbest: 511.5402636 (1400)\ttotal: 4.65s\tremaining: 5.31s\n",
            "1600:\tlearn: 442.4149592\ttest: 510.4349411\tbest: 510.4107515 (1558)\ttotal: 5.35s\tremaining: 4.67s\n",
            "1800:\tlearn: 427.6346787\ttest: 509.9340021\tbest: 509.9296276 (1797)\ttotal: 6.05s\tremaining: 4.03s\n",
            "2000:\tlearn: 414.3472646\ttest: 509.4838989\tbest: 509.4582050 (1999)\ttotal: 6.77s\tremaining: 3.38s\n",
            "2200:\tlearn: 402.1912942\ttest: 509.2878167\tbest: 509.2378510 (2072)\ttotal: 7.44s\tremaining: 2.7s\n",
            "Stopped by overfitting detector  (200 iterations wait)\n",
            "\n",
            "bestTest = 509.237851\n",
            "bestIteration = 2072\n",
            "\n",
            "Shrink model to first 2073 iterations.\n",
            "\n",
            "AV metric score for validation set is 99.27950573749574\n",
            "\n",
            "------------- Fold 4 -------------\n",
            "0:\tlearn: 2960.1401520\ttest: 2896.2623144\tbest: 2896.2623144 (0)\ttotal: 3.12ms\tremaining: 9.36s\n",
            "200:\tlearn: 892.0145256\ttest: 965.7666361\tbest: 965.7666361 (200)\ttotal: 730ms\tremaining: 10.2s\n",
            "400:\tlearn: 580.5124329\ttest: 749.4071541\tbest: 749.4071541 (400)\ttotal: 1.38s\tremaining: 8.97s\n",
            "600:\tlearn: 511.4438859\ttest: 711.9998036\tbest: 711.9998036 (600)\ttotal: 2.1s\tremaining: 8.37s\n",
            "800:\tlearn: 479.7078603\ttest: 699.8388721\tbest: 699.8239705 (799)\ttotal: 2.75s\tremaining: 7.54s\n",
            "1000:\tlearn: 456.7115578\ttest: 693.4385701\tbest: 693.4385701 (1000)\ttotal: 3.42s\tremaining: 6.82s\n",
            "1200:\tlearn: 437.9757268\ttest: 689.7121189\tbest: 689.7121189 (1200)\ttotal: 4.08s\tremaining: 6.12s\n",
            "1400:\tlearn: 419.6487591\ttest: 688.0277812\tbest: 688.0277812 (1400)\ttotal: 4.75s\tremaining: 5.42s\n",
            "1600:\tlearn: 404.7425435\ttest: 686.9204987\tbest: 686.9204987 (1600)\ttotal: 5.46s\tremaining: 4.77s\n",
            "1800:\tlearn: 391.7357760\ttest: 685.9179363\tbest: 685.8938008 (1797)\ttotal: 6.14s\tremaining: 4.09s\n",
            "2000:\tlearn: 379.9709597\ttest: 684.9989490\tbest: 684.9943713 (1988)\ttotal: 6.79s\tremaining: 3.39s\n",
            "2200:\tlearn: 368.0464116\ttest: 684.6826199\tbest: 684.6826199 (2200)\ttotal: 7.44s\tremaining: 2.7s\n",
            "2400:\tlearn: 357.4874206\ttest: 684.3427364\tbest: 684.3050256 (2397)\ttotal: 8.15s\tremaining: 2.03s\n",
            "2600:\tlearn: 347.6008650\ttest: 684.2018341\tbest: 684.0882017 (2534)\ttotal: 8.86s\tremaining: 1.36s\n",
            "Stopped by overfitting detector  (200 iterations wait)\n",
            "\n",
            "bestTest = 684.0882017\n",
            "bestIteration = 2534\n",
            "\n",
            "Shrink model to first 2535 iterations.\n",
            "\n",
            "AV metric score for validation set is 99.05261413700718\n",
            "\n",
            "------------- Fold 5 -------------\n",
            "0:\tlearn: 2941.1946690\ttest: 2974.0302579\tbest: 2974.0302579 (0)\ttotal: 3.18ms\tremaining: 9.54s\n",
            "200:\tlearn: 912.4979613\ttest: 974.2402782\tbest: 974.2402782 (200)\ttotal: 709ms\tremaining: 9.88s\n",
            "400:\tlearn: 618.8425067\ttest: 666.2281601\tbest: 666.2281601 (400)\ttotal: 1.38s\tremaining: 8.96s\n",
            "600:\tlearn: 556.8779153\ttest: 601.8873423\tbest: 601.8873423 (600)\ttotal: 2.12s\tremaining: 8.46s\n",
            "800:\tlearn: 528.4029291\ttest: 581.1854812\tbest: 580.9935907 (796)\ttotal: 2.81s\tremaining: 7.73s\n",
            "1000:\tlearn: 507.0005267\ttest: 571.3743458\tbest: 570.9333468 (982)\ttotal: 3.49s\tremaining: 6.97s\n",
            "1200:\tlearn: 487.3997161\ttest: 570.4248965\tbest: 569.0327488 (1162)\ttotal: 4.22s\tremaining: 6.33s\n",
            "Stopped by overfitting detector  (200 iterations wait)\n",
            "\n",
            "bestTest = 569.0327488\n",
            "bestIteration = 1162\n",
            "\n",
            "Shrink model to first 1163 iterations.\n",
            "\n",
            "AV metric score for validation set is 99.37352547029023\n",
            "\n",
            "\n",
            "AV metric for oofs is 99.19934653114728\n"
          ],
          "name": "stdout"
        },
        {
          "output_type": "display_data",
          "data": {
            "image/png": "[encoded data removed]",
            "text/plain": [
              "<Figure size 864x432 with 1 Axes>"
            ]
          },
          "metadata": {
            "tags": [],
            "needs_background": "light"
          }
        }
      ]
    },
    {
      "cell_type": "code",
      "metadata": {
        "id": "WIj4IJkYXgyy",
        "colab": {
          "base_uri": "https://localhost:8080/",
          "height": 17
        },
        "outputId": "a1cf4641-89a3-4f00-c8f9-09ee72e4c9bb"
      },
      "source": [
        "# cb_preds_t = np.expm1(cb_preds)\n",
        "download_preds(cb_preds, file_name = 'CB.csv')"
      ],
      "execution_count": null,
      "outputs": [
        {
          "output_type": "display_data",
          "data": {
            "application/javascript": [
              "\n",
              "    async function download(id, filename, size) {\n",
              "      if (!google.colab.kernel.accessAllowed) {\n",
              "        return;\n",
              "      }\n",
              "      const div = document.createElement('div');\n",
              "      const label = document.createElement('label');\n",
              "      label.textContent = `Downloading \"${filename}\": `;\n",
              "      div.appendChild(label);\n",
              "      const progress = document.createElement('progress');\n",
              "      progress.max = size;\n",
              "      div.appendChild(progress);\n",
              "      document.body.appendChild(div);\n",
              "\n",
              "      const buffers = [];\n",
              "      let downloaded = 0;\n",
              "\n",
              "      const channel = await google.colab.kernel.comms.open(id);\n",
              "      // Send a message to notify the kernel that we're ready.\n",
              "      channel.send({})\n",
              "\n",
              "      for await (const message of channel.messages) {\n",
              "        // Send a message to notify the kernel that we're ready.\n",
              "        channel.send({})\n",
              "        if (message.buffers) {\n",
              "          for (const buffer of message.buffers) {\n",
              "            buffers.push(buffer);\n",
              "            downloaded += buffer.byteLength;\n",
              "            progress.value = downloaded;\n",
              "          }\n",
              "        }\n",
              "      }\n",
              "      const blob = new Blob(buffers, {type: 'application/binary'});\n",
              "      const a = document.createElement('a');\n",
              "      a.href = window.URL.createObjectURL(blob);\n",
              "      a.download = filename;\n",
              "      div.appendChild(a);\n",
              "      a.click();\n",
              "      div.remove();\n",
              "    }\n",
              "  "
            ],
            "text/plain": [
              "<IPython.core.display.Javascript object>"
            ]
          },
          "metadata": {
            "tags": []
          }
        },
        {
          "output_type": "display_data",
          "data": {
            "application/javascript": [
              "download(\"download_1f083f3e-79d6-4205-aa4b-9ba6775b1c59\", \"CB.csv\", 120935)"
            ],
            "text/plain": [
              "<IPython.core.display.Javascript object>"
            ]
          },
          "metadata": {
            "tags": []
          }
        }
      ]
    },
    {
      "cell_type": "code",
      "metadata": {
        "id": "b1eAGT9yYoUQ",
        "colab": {
          "base_uri": "https://localhost:8080/",
          "height": 1000
        },
        "outputId": "7c325053-0555-4343-c029-1200f873f9ee"
      },
      "source": [
        "clf = XGBRegressor(n_estimators = 1000,\n",
        "                    max_depth = 6,\n",
        "                    learning_rate = 0.05,\n",
        "                    colsample_bytree = 0.5,\n",
        "                    random_state=1452,\n",
        "                    )\n",
        "\n",
        "fit_params = {'verbose': 200, 'early_stopping_rounds': 200}\n",
        "\n",
        "xgb_oofs, xgb_preds, fi = run_gradient_boosting(clf, fit_params, train_proc, test_proc, cat_num_cols)"
      ],
      "execution_count": null,
      "outputs": [
        {
          "output_type": "stream",
          "text": [
            "\n",
            "------------- Fold 1 -------------\n",
            "[14:07:41] WARNING: /workspace/src/objective/regression_obj.cu:152: reg:linear is now deprecated in favor of reg:squarederror.\n",
            "[0]\tvalidation_0-rmse:5198.18\n",
            "Will train until validation_0-rmse hasn't improved in 200 rounds.\n",
            "[200]\tvalidation_0-rmse:657.201\n",
            "[400]\tvalidation_0-rmse:651.271\n",
            "[600]\tvalidation_0-rmse:650.725\n",
            "Stopping. Best iteration:\n",
            "[528]\tvalidation_0-rmse:649.142\n",
            "\n",
            "\n",
            "AV metric score for validation set is 99.1680520092603\n",
            "\n",
            "------------- Fold 2 -------------\n",
            "[14:07:46] WARNING: /workspace/src/objective/regression_obj.cu:152: reg:linear is now deprecated in favor of reg:squarederror.\n",
            "[0]\tvalidation_0-rmse:5294.57\n",
            "Will train until validation_0-rmse hasn't improved in 200 rounds.\n",
            "[200]\tvalidation_0-rmse:616.634\n",
            "[400]\tvalidation_0-rmse:613.869\n",
            "[600]\tvalidation_0-rmse:612.917\n",
            "[800]\tvalidation_0-rmse:612.737\n",
            "Stopping. Best iteration:\n",
            "[623]\tvalidation_0-rmse:612.479\n",
            "\n",
            "\n",
            "AV metric score for validation set is 99.08774116764108\n",
            "\n",
            "------------- Fold 3 -------------\n",
            "[14:07:51] WARNING: /workspace/src/objective/regression_obj.cu:152: reg:linear is now deprecated in favor of reg:squarederror.\n",
            "[0]\tvalidation_0-rmse:5220.58\n",
            "Will train until validation_0-rmse hasn't improved in 200 rounds.\n",
            "[200]\tvalidation_0-rmse:605.095\n",
            "[400]\tvalidation_0-rmse:594.761\n",
            "[600]\tvalidation_0-rmse:592.442\n",
            "Stopping. Best iteration:\n",
            "[561]\tvalidation_0-rmse:592.325\n",
            "\n",
            "\n",
            "AV metric score for validation set is 99.25531741880822\n",
            "\n",
            "------------- Fold 4 -------------\n",
            "[14:07:55] WARNING: /workspace/src/objective/regression_obj.cu:152: reg:linear is now deprecated in favor of reg:squarederror.\n",
            "[0]\tvalidation_0-rmse:5180.68\n",
            "Will train until validation_0-rmse hasn't improved in 200 rounds.\n",
            "[200]\tvalidation_0-rmse:759.386\n",
            "[400]\tvalidation_0-rmse:756.881\n",
            "[600]\tvalidation_0-rmse:758.045\n",
            "Stopping. Best iteration:\n",
            "[406]\tvalidation_0-rmse:756.775\n",
            "\n",
            "\n",
            "AV metric score for validation set is 99.05684014848077\n",
            "\n",
            "------------- Fold 5 -------------\n",
            "[14:07:59] WARNING: /workspace/src/objective/regression_obj.cu:152: reg:linear is now deprecated in favor of reg:squarederror.\n",
            "[0]\tvalidation_0-rmse:5255.87\n",
            "Will train until validation_0-rmse hasn't improved in 200 rounds.\n",
            "[200]\tvalidation_0-rmse:738.631\n",
            "[400]\tvalidation_0-rmse:733.978\n",
            "[600]\tvalidation_0-rmse:732.629\n",
            "[800]\tvalidation_0-rmse:731.915\n",
            "[999]\tvalidation_0-rmse:731.19\n",
            "\n",
            "AV metric score for validation set is 99.31620446630819\n",
            "\n",
            "\n",
            "AV metric for oofs is 99.17101915658482\n"
          ],
          "name": "stdout"
        },
        {
          "output_type": "display_data",
          "data": {
            "image/png": "[encoded data removed]",
            "text/plain": [
              "<Figure size 864x432 with 1 Axes>"
            ]
          },
          "metadata": {
            "tags": [],
            "needs_background": "light"
          }
        }
      ]
    },
    {
      "cell_type": "code",
      "metadata": {
        "colab": {
          "base_uri": "https://localhost:8080/",
          "height": 17
        },
        "id": "12hPCbMhAPwV",
        "outputId": "3c23a23e-5235-4edc-9194-f6becb5a7db1"
      },
      "source": [
        "# xgb_preds_t = np.expm1(xgb_preds)\n",
        "download_preds(xgb_preds, file_name = 'XG.csv')"
      ],
      "execution_count": null,
      "outputs": [
        {
          "output_type": "display_data",
          "data": {
            "application/javascript": [
              "\n",
              "    async function download(id, filename, size) {\n",
              "      if (!google.colab.kernel.accessAllowed) {\n",
              "        return;\n",
              "      }\n",
              "      const div = document.createElement('div');\n",
              "      const label = document.createElement('label');\n",
              "      label.textContent = `Downloading \"${filename}\": `;\n",
              "      div.appendChild(label);\n",
              "      const progress = document.createElement('progress');\n",
              "      progress.max = size;\n",
              "      div.appendChild(progress);\n",
              "      document.body.appendChild(div);\n",
              "\n",
              "      const buffers = [];\n",
              "      let downloaded = 0;\n",
              "\n",
              "      const channel = await google.colab.kernel.comms.open(id);\n",
              "      // Send a message to notify the kernel that we're ready.\n",
              "      channel.send({})\n",
              "\n",
              "      for await (const message of channel.messages) {\n",
              "        // Send a message to notify the kernel that we're ready.\n",
              "        channel.send({})\n",
              "        if (message.buffers) {\n",
              "          for (const buffer of message.buffers) {\n",
              "            buffers.push(buffer);\n",
              "            downloaded += buffer.byteLength;\n",
              "            progress.value = downloaded;\n",
              "          }\n",
              "        }\n",
              "      }\n",
              "      const blob = new Blob(buffers, {type: 'application/binary'});\n",
              "      const a = document.createElement('a');\n",
              "      a.href = window.URL.createObjectURL(blob);\n",
              "      a.download = filename;\n",
              "      div.appendChild(a);\n",
              "      a.click();\n",
              "      div.remove();\n",
              "    }\n",
              "  "
            ],
            "text/plain": [
              "<IPython.core.display.Javascript object>"
            ]
          },
          "metadata": {
            "tags": []
          }
        },
        {
          "output_type": "display_data",
          "data": {
            "application/javascript": [
              "download(\"download_00d286ad-7d7a-4632-b12e-dc0810bf34ad\", \"XG.csv\", 120785)"
            ],
            "text/plain": [
              "<IPython.core.display.Javascript object>"
            ]
          },
          "metadata": {
            "tags": []
          }
        }
      ]
    },
    {
      "cell_type": "code",
      "metadata": {
        "id": "2YBpG3x8A5vx"
      },
      "source": [
        "train_new = train[[ID_COL, TARGET_COL]]\n",
        "\n",
        "test_new = test[[ID_COL]]\n",
        "\n",
        "train_new['lgb'] = lgb_oofs\n",
        "test_new['lgb'] = lgb_preds\n",
        "\n",
        "train_new['cb'] = cb_oofs\n",
        "test_new['cb'] = cb_preds\n",
        "\n",
        "train_new['xgb'] = xgb_oofs\n",
        "test_new['xgb'] = xgb_preds\n",
        "\n",
        "features = [c for c in train_new.columns if c not in [ID_COL, TARGET_COL]]"
      ],
      "execution_count": null,
      "outputs": []
    },
    {
      "cell_type": "code",
      "metadata": {
        "colab": {
          "base_uri": "https://localhost:8080/"
        },
        "id": "Lruj_lCmBsHN",
        "outputId": "2332bd90-366e-4beb-df92-bf6b0e7b8f4a"
      },
      "source": [
        "features"
      ],
      "execution_count": null,
      "outputs": [
        {
          "output_type": "execute_result",
          "data": {
            "text/plain": [
              "['lgb', 'cb', 'xgb']"
            ]
          },
          "metadata": {
            "tags": []
          },
          "execution_count": 32
        }
      ]
    },
    {
      "cell_type": "code",
      "metadata": {
        "id": "PB1b8U-AKFzI"
      },
      "source": [
        "from sklearn.linear_model import Ridge\n",
        "model = Ridge().fit(train_new,train_new['Selling_Price'])\n",
        "pred = model.predict(test_new)"
      ],
      "execution_count": null,
      "outputs": []
    }
  ]
}